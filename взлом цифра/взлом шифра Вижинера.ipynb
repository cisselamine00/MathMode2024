{
  "nbformat": 4,
  "nbformat_minor": 0,
  "metadata": {
    "colab": {
      "provenance": []
    },
    "kernelspec": {
      "name": "python3",
      "display_name": "Python 3"
    },
    "language_info": {
      "name": "python"
    }
  },
  "cells": [
    {
      "cell_type": "code",
      "execution_count": null,
      "metadata": {
        "colab": {
          "base_uri": "https://localhost:8080/",
          "height": 564
        },
        "id": "GP5KKTd-oljb",
        "outputId": "ca110f0a-eb3b-4561-d40a-51e0fbaac906"
      },
      "outputs": [
        {
          "output_type": "display_data",
          "data": {
            "text/plain": [
              "<Figure size 1000x600 with 1 Axes>"
            ],
            "image/png": "[encoded data removed]"
          },
          "metadata": {}
        }
      ],
      "source": [
        "import matplotlib.pyplot as plt\n",
        "\n",
        "# Data for letter frequencies\n",
        "letters = ['p', 'q', 'r', 's', 't', 'u', 'v', 'w', 'x', 'y', 'z']\n",
        "frequencies = [0.05954047119197574, 0.01667832983438302, 0.031024026125495683, 0.061931420573827854,\n",
        "              0.040296244459995335, 0.0185444366689993, 0.031490552834149754, 0.053767203172381615,\n",
        "              0.03650571495218101, 0.0363890832750175, 0.04315372055050152]\n",
        "\n",
        "plt.figure(figsize=(10, 6))\n",
        "plt.bar(letters, frequencies, color='skyblue')\n",
        "\n",
        "plt.xlabel('Letters')\n",
        "plt.ylabel('Frequencies')\n",
        "plt.title('Letter Frequencies in the Decrypted Text')\n",
        "\n",
        "plt.show()\n"
      ]
    },
    {
      "cell_type": "markdown",
      "source": [
        "###Анализ результатов и выводы"
      ],
      "metadata": {
        "id": "BxKCwD-BpdW8"
      }
    },
    {
      "cell_type": "markdown",
      "source": [
        "##1) Сравнение с известным языком:\n",
        "Частота встречаемости букв в расшифрованном тексте похожа на частоту встречаемости букв в английском языке. Например, частота буквы \"p\" близка к частоте буквы \"e\" в английском языке..\n",
        "\n",
        "\n",
        "# 2) Определение ключа:\n",
        "\n",
        "Если посмотреть на частоту букв, то можно заметить, что некоторые буквы встречаются чаще других. Это может указывать на то, что эти буквы являются частью ключа, используемого для шифрования. Например, буквы \"p\" и \"s\" имеют относительно высокую частоту, что говорит о том, что они могут быть частью ключа."
      ],
      "metadata": {
        "id": "q3UsN0ZCph9G"
      }
    },
    {
      "cell_type": "markdown",
      "source": [
        "# 3) Интерпретация расшифрованного текста:  \n",
        "Зависит от его длины и сложности, требует внимательного прочтения, чтобы определить его связность.\n",
        "\n",
        "# Проверка решения:\n",
        "Сравните с известными английскими текстами или найдите закономерности, чтобы подтвердить решение..\n",
        "\n",
        " Итак, частоты букв в расшифрованном тексте соответствуют английским, но для подтверждения и точной интерпретации требуется..."
      ],
      "metadata": {
        "id": "KIj8kN3Hq5-a"
      }
    },
    {
      "cell_type": "code",
      "source": [
        "import random\n",
        "import typing as tp\n",
        "\n",
        "\n",
        "def is_prime(n: int) -> bool:\n",
        "    \"\"\"\n",
        "    Tests to see if a number is prime.\n",
        "\n",
        "    >>> is_prime(2)\n",
        "    True\n",
        "    >>> is_prime(11)\n",
        "    True\n",
        "    >>> is_prime(8)\n",
        "    False\n",
        "    \"\"\"\n",
        "    if n <= 1:\n",
        "        return False\n",
        "    elif n <= 3:\n",
        "        return True\n",
        "    elif n % 2 == 0 or n % 3 == 0:\n",
        "        return False\n",
        "    i = 5\n",
        "    while i * i <= n:\n",
        "        if n % i == 0 or n % (i + 2) == 0:\n",
        "            return False\n",
        "        i += 6\n",
        "    return True\n",
        "\n",
        "\n",
        "def gcd(a: int, b: int) -> int:\n",
        "    \"\"\"\n",
        "    Euclid's algorithm for determining the greatest common divisor.\n",
        "\n",
        "    >>> gcd(12, 15)\n",
        "    3\n",
        "    >>> gcd(3, 7)\n",
        "    1\n",
        "    \"\"\"\n",
        "    while b != 0:\n",
        "        a, b = b, a % b\n",
        "    return a\n",
        "\n",
        "\n",
        "def multiplicative_inverse(e: int, phi: int) -> int:\n",
        "    \"\"\"\n",
        "    Euclid's extended algorithm for finding the multiplicative\n",
        "    inverse of two numbers.\n",
        "\n",
        "    >>> multiplicative_inverse(7, 40)\n",
        "    23\n",
        "    \"\"\"\n",
        "    d = 0\n",
        "    x1, x2, y1, y2 = 0, 1, 1, 0\n",
        "    temp_phi = phi\n",
        "\n",
        "    while e > 0:\n",
        "        temp1 = temp_phi // e\n",
        "        temp2 = temp_phi - temp1 * e\n",
        "        temp_phi = e\n",
        "        e = temp2\n",
        "\n",
        "        x = x2 - temp1 * x1\n",
        "        y = y2 - temp1 * y1\n",
        "\n",
        "        x2 = x1\n",
        "        x1 = x\n",
        "        y2 = y1\n",
        "        y1 = y\n",
        "\n",
        "    if temp_phi == 1:\n",
        "        d = y2 + phi\n",
        "\n",
        "    return d\n",
        "\n",
        "\n",
        "def generate_keypair(p: int, q: int) -> tp.Tuple[tp.Tuple[int, int], tp.Tuple[int, int]]:\n",
        "    if not (is_prime(p) and is_prime(q)):\n",
        "        raise ValueError(\"Both numbers must be prime.\")\n",
        "    elif p == q:\n",
        "        raise ValueError(\"p and q cannot be equal\")\n",
        "\n",
        "    n = p * q\n",
        "    phi = (p - 1) * (q - 1)\n",
        "\n",
        "    e = random.randrange(1, phi)\n",
        "\n",
        "    g = gcd(e, phi)\n",
        "    while g != 1:\n",
        "        e = random.randrange(1, phi)\n",
        "        g = gcd(e, phi)\n",
        "\n",
        "    d = multiplicative_inverse(e, phi)\n",
        "\n",
        "    return ((e, n), (d, n))\n",
        "\n",
        "\n",
        "def encrypt(pk: tp.Tuple[int, int], plaintext: str) -> tp.List[int]:\n",
        "    key, n = pk\n",
        "    cipher = [(pow(ord(char), key, n)) for char in plaintext]\n",
        "    return cipher\n",
        "\n",
        "\n",
        "def decrypt(pk: tp.Tuple[int, int], ciphertext: tp.List[int]) -> str:\n",
        "    key, n = pk\n",
        "    plain = [chr((pow(char, key, n))) for char in ciphertext]\n",
        "    return \"\".join(plain)\n",
        "\n",
        "\n",
        "if __name__ == \"__main__\":\n",
        "    print(\"RSA Encrypter/ Decrypter\")\n",
        "    p = int(input(\"Enter a prime number (17, 19, 23, etc): \"))\n",
        "    q = int(input(\"Enter another prime number (Not one you entered above): \"))\n",
        "    print(\"Generating your public/private keypairs now . . .\")\n",
        "    public, private = generate_keypair(p, q)\n",
        "    print(\"Your public key is \", public, \" and your private key is \", private)\n",
        "    message = input(\"Enter a message to encrypt with your private key: \")\n",
        "    encrypted_msg = encrypt(private, message)\n",
        "    print(\"Your encrypted message is: \")\n",
        "    print(\"\".join(map(lambda x: str(x), encrypted_msg)))\n",
        "    print(\"Decrypting message with public key \", public, \" . . .\")\n",
        "    print(\"Your message is:\")\n",
        "    print(decrypt(public, encrypted_msg))\n"
      ],
      "metadata": {
        "id": "GP1Npc9frQ1A",
        "colab": {
          "base_uri": "https://localhost:8080/"
        },
        "outputId": "cf822b16-1c6f-4324-fa6e-fd394c4f7507"
      },
      "execution_count": null,
      "outputs": [
        {
          "name": "stdout",
          "output_type": "stream",
          "text": [
            "RSA Encrypter/ Decrypter\n",
            "Enter a prime number (17, 19, 23, etc): 18\n"
          ]
        }
      ]
    }
  ]
}